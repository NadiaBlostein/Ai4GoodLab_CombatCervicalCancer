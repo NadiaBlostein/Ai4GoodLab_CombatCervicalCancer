{
 "cells": [
  {
   "cell_type": "code",
   "execution_count": 19,
   "metadata": {},
   "outputs": [
    {
     "data": {
      "text/plain": [
       "(858, 36)"
      ]
     },
     "execution_count": 19,
     "metadata": {},
     "output_type": "execute_result"
    }
   ],
   "source": [
    "#################################\n",
    "###### 1. Data Preparation ######\n",
    "#################################\n",
    "\n",
    "# https://www.kaggle.com/loveall/cervical-cancer-risk-classification\n",
    "# https://ieeexplore.ieee.org/document/\n",
    "# NOTE: CHANGE ? to NA so that it can then compute mean and std for numeric cols\n",
    "\n",
    "import pandas as pd\n",
    "import numpy as np\n",
    "import seaborn as sns\n",
    "%matplotlib inline\n",
    "import matplotlib.pyplot as plt\n",
    "from mpl_toolkits.axes_grid1 import AxesGrid\n",
    "import warnings\n",
    "warnings.filterwarnings('ignore')\n",
    "\n",
    "df = pd.read_csv(\"kag_risk_factors_cervical_cancer.csv\")\n",
    "df.shape"
   ]
  },
  {
   "cell_type": "code",
   "execution_count": 42,
   "metadata": {},
   "outputs": [
    {
     "data": {
      "text/plain": [
       "(array([0., 1.]), array([803,  55]))"
      ]
     },
     "execution_count": 42,
     "metadata": {},
     "output_type": "execute_result"
    }
   ],
   "source": [
    "np.unique(df['Biopsy'],return_counts=True)"
   ]
  },
  {
   "cell_type": "markdown",
   "metadata": {},
   "source": [
    "Data examination:"
   ]
  },
  {
   "cell_type": "code",
   "execution_count": 20,
   "metadata": {},
   "outputs": [
    {
     "data": {
      "text/plain": [
       "Age                          26.820513\n",
       "STDs: Number of diagnosis     0.087413\n",
       "Dx:Cancer                     0.020979\n",
       "Dx:CIN                        0.010490\n",
       "Dx:HPV                        0.020979\n",
       "Dx                            0.027972\n",
       "Hinselmann                    0.040793\n",
       "Schiller                      0.086247\n",
       "Citology                      0.051282\n",
       "Biopsy                        0.064103\n",
       "dtype: float64"
      ]
     },
     "execution_count": 20,
     "metadata": {},
     "output_type": "execute_result"
    }
   ],
   "source": [
    "######### column names #########\n",
    "# print(df.columns)\n",
    "    # note: CIN - Cervical Intraepithelial Neoplasia\n",
    "    # note: Dx - Medical Abbreviation for Diagnosis\n",
    "\n",
    "######### other data descriptors #########\n",
    "# print(df.head(5))\n",
    "# df.describe\n",
    "# df.info()\n",
    "\n",
    "######### how many unique values per feature? #########\n",
    "# for col in df.columns:\n",
    "#     print(col,\": \")\n",
    "#     print(np.unique(df[col],return_counts=True))\n",
    "######### object type in each col: #########\n",
    "# for col in df.columns:\n",
    "    # print(df[col].dtype) # objects = string (meaning that because there's at least one string in that col, whole col treated\n",
    "        # as string, even if most of the other rows in that col are actually int!)\n",
    "    \n",
    "######### how many unknowns per feature? #########\n",
    "# for col in df.columns:\n",
    "#     print(f'{col} : {len(df[df[col]==\"?\"])}')\n",
    "\n",
    "######### mean and sd for each feature (ie column) #########\n",
    "df.mean()\n",
    "# df.std()"
   ]
  },
  {
   "cell_type": "markdown",
   "metadata": {},
   "source": [
    "From Kaggle notebook (https://www.kaggle.com/atakansoztekin/cancer-data-analysis-and-model-implementation):"
   ]
  },
  {
   "cell_type": "code",
   "execution_count": 21,
   "metadata": {
    "scrolled": true
   },
   "outputs": [
    {
     "data": {
      "text/plain": [
       "Age                                     0\n",
       "Number of sexual partners              26\n",
       "First sexual intercourse                7\n",
       "Num of pregnancies                     56\n",
       "Smokes                                 13\n",
       "Smokes (years)                         13\n",
       "Smokes (packs/year)                    13\n",
       "Hormonal Contraceptives               108\n",
       "Hormonal Contraceptives (years)       108\n",
       "IUD                                   117\n",
       "IUD (years)                           117\n",
       "STDs                                  105\n",
       "STDs (number)                         105\n",
       "STDs:condylomatosis                   105\n",
       "STDs:cervical condylomatosis          105\n",
       "STDs:vaginal condylomatosis           105\n",
       "STDs:vulvo-perineal condylomatosis    105\n",
       "STDs:syphilis                         105\n",
       "STDs:pelvic inflammatory disease      105\n",
       "STDs:genital herpes                   105\n",
       "STDs:molluscum contagiosum            105\n",
       "STDs:AIDS                             105\n",
       "STDs:HIV                              105\n",
       "STDs:Hepatitis B                      105\n",
       "STDs:HPV                              105\n",
       "STDs: Number of diagnosis               0\n",
       "STDs: Time since first diagnosis      787\n",
       "STDs: Time since last diagnosis       787\n",
       "Dx:Cancer                               0\n",
       "Dx:CIN                                  0\n",
       "Dx:HPV                                  0\n",
       "Dx                                      0\n",
       "Hinselmann                              0\n",
       "Schiller                                0\n",
       "Citology                                0\n",
       "Biopsy                                  0\n",
       "dtype: int64"
      ]
     },
     "execution_count": 21,
     "metadata": {},
     "output_type": "execute_result"
    }
   ],
   "source": [
    "# replace \"?\" with na (easier to handle subsequently)\n",
    "df = df.replace(\"?\", np.nan)\n",
    "# convert to float\n",
    "df = df.astype(float)\n",
    "# how many null values per feature?\n",
    "df.isnull().sum()"
   ]
  },
  {
   "cell_type": "code",
   "execution_count": 22,
   "metadata": {},
   "outputs": [
    {
     "name": "stdout",
     "output_type": "stream",
     "text": [
      "(858, 34)\n"
     ]
    }
   ],
   "source": [
    "# remove features with too many null values\n",
    "df = df.drop(['STDs: Time since first diagnosis', 'STDs: Time since last diagnosis'], axis=1)\n",
    "# print(df.columns)\n",
    "print(df.shape) # should have 2 features less"
   ]
  },
  {
   "cell_type": "code",
   "execution_count": 23,
   "metadata": {},
   "outputs": [],
   "source": [
    "######### Inferring missing data #########\n",
    "\n",
    "# Strategy 1: KNN\n",
    "from sklearn.impute import KNNImputer\n",
    "imputer = KNNImputer(n_neighbors=600)\n",
    "df = pd.DataFrame(imputer.fit_transform(df),columns=df.columns)\n",
    "# df.isnull().sum()\n",
    "\n",
    "# Strategy 2: replace na values with median of that feature\n",
    "    # (not mean, since mean more vulnerable to outliers)\n",
    "# for col in df.columns:\n",
    "#     df[col].fillna(df[col].median(), inplace = True)\n",
    "# df.isnull().sum()"
   ]
  },
  {
   "cell_type": "code",
   "execution_count": 24,
   "metadata": {},
   "outputs": [
    {
     "name": "stdout",
     "output_type": "stream",
     "text": [
      "Index(['Age', 'Number of sexual partners', 'First sexual intercourse',\n",
      "       'Num of pregnancies', 'Smokes', 'Smokes (years)', 'Smokes (packs/year)',\n",
      "       'Hormonal Contraceptives', 'Hormonal Contraceptives (years)', 'IUD',\n",
      "       'IUD (years)', 'STDs', 'STDs (number)', 'STDs:condylomatosis',\n",
      "       'STDs:cervical condylomatosis', 'STDs:vaginal condylomatosis',\n",
      "       'STDs:vulvo-perineal condylomatosis', 'STDs:syphilis',\n",
      "       'STDs:pelvic inflammatory disease', 'STDs:genital herpes',\n",
      "       'STDs:molluscum contagiosum', 'STDs:AIDS', 'STDs:HIV',\n",
      "       'STDs:Hepatitis B', 'STDs:HPV', 'STDs: Number of diagnosis',\n",
      "       'Dx:Cancer', 'Dx:CIN', 'Dx:HPV', 'Dx', 'Hinselmann', 'Schiller',\n",
      "       'Citology', 'Biopsy'],\n",
      "      dtype='object')\n"
     ]
    }
   ],
   "source": [
    "print(df.columns)"
   ]
  },
  {
   "cell_type": "code",
   "execution_count": 25,
   "metadata": {},
   "outputs": [
    {
     "data": {
      "text/html": [
       "<div>\n",
       "<style scoped>\n",
       "    .dataframe tbody tr th:only-of-type {\n",
       "        vertical-align: middle;\n",
       "    }\n",
       "\n",
       "    .dataframe tbody tr th {\n",
       "        vertical-align: top;\n",
       "    }\n",
       "\n",
       "    .dataframe thead th {\n",
       "        text-align: right;\n",
       "    }\n",
       "</style>\n",
       "<table border=\"1\" class=\"dataframe\">\n",
       "  <thead>\n",
       "    <tr style=\"text-align: right;\">\n",
       "      <th></th>\n",
       "      <th>Age</th>\n",
       "      <th>Number of sexual partners</th>\n",
       "      <th>First sexual intercourse</th>\n",
       "      <th>Num of pregnancies</th>\n",
       "      <th>Smokes</th>\n",
       "      <th>Hormonal Contraceptives</th>\n",
       "      <th>Hormonal Contraceptives (years)</th>\n",
       "      <th>IUD</th>\n",
       "      <th>IUD (years)</th>\n",
       "      <th>STDs</th>\n",
       "      <th>...</th>\n",
       "      <th>STDs:HPV</th>\n",
       "      <th>STDs: Number of diagnosis</th>\n",
       "      <th>Dx:Cancer</th>\n",
       "      <th>Dx:CIN</th>\n",
       "      <th>Dx:HPV</th>\n",
       "      <th>Dx</th>\n",
       "      <th>Hinselmann</th>\n",
       "      <th>Schiller</th>\n",
       "      <th>Citology</th>\n",
       "      <th>Biopsy</th>\n",
       "    </tr>\n",
       "  </thead>\n",
       "  <tbody>\n",
       "    <tr>\n",
       "      <th>0</th>\n",
       "      <td>18.0</td>\n",
       "      <td>4.0</td>\n",
       "      <td>15.00</td>\n",
       "      <td>1.000000</td>\n",
       "      <td>0.000000</td>\n",
       "      <td>0.0</td>\n",
       "      <td>0.0</td>\n",
       "      <td>0.000000</td>\n",
       "      <td>0.000000</td>\n",
       "      <td>0.0</td>\n",
       "      <td>...</td>\n",
       "      <td>0.0</td>\n",
       "      <td>0.0</td>\n",
       "      <td>0.0</td>\n",
       "      <td>0.0</td>\n",
       "      <td>0.0</td>\n",
       "      <td>0.0</td>\n",
       "      <td>0.0</td>\n",
       "      <td>0.0</td>\n",
       "      <td>0.0</td>\n",
       "      <td>0.0</td>\n",
       "    </tr>\n",
       "    <tr>\n",
       "      <th>1</th>\n",
       "      <td>15.0</td>\n",
       "      <td>1.0</td>\n",
       "      <td>14.00</td>\n",
       "      <td>1.000000</td>\n",
       "      <td>0.000000</td>\n",
       "      <td>0.0</td>\n",
       "      <td>0.0</td>\n",
       "      <td>0.000000</td>\n",
       "      <td>0.000000</td>\n",
       "      <td>0.0</td>\n",
       "      <td>...</td>\n",
       "      <td>0.0</td>\n",
       "      <td>0.0</td>\n",
       "      <td>0.0</td>\n",
       "      <td>0.0</td>\n",
       "      <td>0.0</td>\n",
       "      <td>0.0</td>\n",
       "      <td>0.0</td>\n",
       "      <td>0.0</td>\n",
       "      <td>0.0</td>\n",
       "      <td>0.0</td>\n",
       "    </tr>\n",
       "    <tr>\n",
       "      <th>2</th>\n",
       "      <td>34.0</td>\n",
       "      <td>1.0</td>\n",
       "      <td>17.55</td>\n",
       "      <td>1.000000</td>\n",
       "      <td>0.000000</td>\n",
       "      <td>0.0</td>\n",
       "      <td>0.0</td>\n",
       "      <td>0.000000</td>\n",
       "      <td>0.000000</td>\n",
       "      <td>0.0</td>\n",
       "      <td>...</td>\n",
       "      <td>0.0</td>\n",
       "      <td>0.0</td>\n",
       "      <td>0.0</td>\n",
       "      <td>0.0</td>\n",
       "      <td>0.0</td>\n",
       "      <td>0.0</td>\n",
       "      <td>0.0</td>\n",
       "      <td>0.0</td>\n",
       "      <td>0.0</td>\n",
       "      <td>0.0</td>\n",
       "    </tr>\n",
       "    <tr>\n",
       "      <th>3</th>\n",
       "      <td>52.0</td>\n",
       "      <td>5.0</td>\n",
       "      <td>16.00</td>\n",
       "      <td>4.000000</td>\n",
       "      <td>1369.000000</td>\n",
       "      <td>1.0</td>\n",
       "      <td>3.0</td>\n",
       "      <td>0.000000</td>\n",
       "      <td>0.000000</td>\n",
       "      <td>0.0</td>\n",
       "      <td>...</td>\n",
       "      <td>0.0</td>\n",
       "      <td>0.0</td>\n",
       "      <td>1.0</td>\n",
       "      <td>0.0</td>\n",
       "      <td>1.0</td>\n",
       "      <td>0.0</td>\n",
       "      <td>0.0</td>\n",
       "      <td>0.0</td>\n",
       "      <td>0.0</td>\n",
       "      <td>0.0</td>\n",
       "    </tr>\n",
       "    <tr>\n",
       "      <th>4</th>\n",
       "      <td>46.0</td>\n",
       "      <td>3.0</td>\n",
       "      <td>21.00</td>\n",
       "      <td>4.000000</td>\n",
       "      <td>0.000000</td>\n",
       "      <td>1.0</td>\n",
       "      <td>15.0</td>\n",
       "      <td>0.000000</td>\n",
       "      <td>0.000000</td>\n",
       "      <td>0.0</td>\n",
       "      <td>...</td>\n",
       "      <td>0.0</td>\n",
       "      <td>0.0</td>\n",
       "      <td>0.0</td>\n",
       "      <td>0.0</td>\n",
       "      <td>0.0</td>\n",
       "      <td>0.0</td>\n",
       "      <td>0.0</td>\n",
       "      <td>0.0</td>\n",
       "      <td>0.0</td>\n",
       "      <td>0.0</td>\n",
       "    </tr>\n",
       "    <tr>\n",
       "      <th>5</th>\n",
       "      <td>42.0</td>\n",
       "      <td>3.0</td>\n",
       "      <td>23.00</td>\n",
       "      <td>2.000000</td>\n",
       "      <td>0.000000</td>\n",
       "      <td>0.0</td>\n",
       "      <td>0.0</td>\n",
       "      <td>0.000000</td>\n",
       "      <td>0.000000</td>\n",
       "      <td>0.0</td>\n",
       "      <td>...</td>\n",
       "      <td>0.0</td>\n",
       "      <td>0.0</td>\n",
       "      <td>0.0</td>\n",
       "      <td>0.0</td>\n",
       "      <td>0.0</td>\n",
       "      <td>0.0</td>\n",
       "      <td>0.0</td>\n",
       "      <td>0.0</td>\n",
       "      <td>0.0</td>\n",
       "      <td>0.0</td>\n",
       "    </tr>\n",
       "    <tr>\n",
       "      <th>6</th>\n",
       "      <td>51.0</td>\n",
       "      <td>3.0</td>\n",
       "      <td>17.00</td>\n",
       "      <td>6.000000</td>\n",
       "      <td>115.600000</td>\n",
       "      <td>0.0</td>\n",
       "      <td>0.0</td>\n",
       "      <td>1.000000</td>\n",
       "      <td>7.000000</td>\n",
       "      <td>0.0</td>\n",
       "      <td>...</td>\n",
       "      <td>0.0</td>\n",
       "      <td>0.0</td>\n",
       "      <td>0.0</td>\n",
       "      <td>0.0</td>\n",
       "      <td>0.0</td>\n",
       "      <td>0.0</td>\n",
       "      <td>1.0</td>\n",
       "      <td>1.0</td>\n",
       "      <td>0.0</td>\n",
       "      <td>1.0</td>\n",
       "    </tr>\n",
       "    <tr>\n",
       "      <th>7</th>\n",
       "      <td>26.0</td>\n",
       "      <td>1.0</td>\n",
       "      <td>26.00</td>\n",
       "      <td>3.000000</td>\n",
       "      <td>0.000000</td>\n",
       "      <td>1.0</td>\n",
       "      <td>2.0</td>\n",
       "      <td>1.000000</td>\n",
       "      <td>7.000000</td>\n",
       "      <td>0.0</td>\n",
       "      <td>...</td>\n",
       "      <td>0.0</td>\n",
       "      <td>0.0</td>\n",
       "      <td>0.0</td>\n",
       "      <td>0.0</td>\n",
       "      <td>0.0</td>\n",
       "      <td>0.0</td>\n",
       "      <td>0.0</td>\n",
       "      <td>0.0</td>\n",
       "      <td>0.0</td>\n",
       "      <td>0.0</td>\n",
       "    </tr>\n",
       "    <tr>\n",
       "      <th>8</th>\n",
       "      <td>45.0</td>\n",
       "      <td>1.0</td>\n",
       "      <td>20.00</td>\n",
       "      <td>5.000000</td>\n",
       "      <td>0.000000</td>\n",
       "      <td>0.0</td>\n",
       "      <td>0.0</td>\n",
       "      <td>0.000000</td>\n",
       "      <td>0.000000</td>\n",
       "      <td>0.0</td>\n",
       "      <td>...</td>\n",
       "      <td>0.0</td>\n",
       "      <td>0.0</td>\n",
       "      <td>1.0</td>\n",
       "      <td>0.0</td>\n",
       "      <td>1.0</td>\n",
       "      <td>1.0</td>\n",
       "      <td>0.0</td>\n",
       "      <td>0.0</td>\n",
       "      <td>0.0</td>\n",
       "      <td>0.0</td>\n",
       "    </tr>\n",
       "    <tr>\n",
       "      <th>9</th>\n",
       "      <td>44.0</td>\n",
       "      <td>3.0</td>\n",
       "      <td>15.00</td>\n",
       "      <td>2.473333</td>\n",
       "      <td>3.547524</td>\n",
       "      <td>0.0</td>\n",
       "      <td>0.0</td>\n",
       "      <td>0.131667</td>\n",
       "      <td>0.604117</td>\n",
       "      <td>0.0</td>\n",
       "      <td>...</td>\n",
       "      <td>0.0</td>\n",
       "      <td>0.0</td>\n",
       "      <td>0.0</td>\n",
       "      <td>0.0</td>\n",
       "      <td>0.0</td>\n",
       "      <td>0.0</td>\n",
       "      <td>0.0</td>\n",
       "      <td>0.0</td>\n",
       "      <td>0.0</td>\n",
       "      <td>0.0</td>\n",
       "    </tr>\n",
       "  </tbody>\n",
       "</table>\n",
       "<p>10 rows × 32 columns</p>\n",
       "</div>"
      ],
      "text/plain": [
       "    Age  Number of sexual partners  First sexual intercourse  \\\n",
       "0  18.0                        4.0                     15.00   \n",
       "1  15.0                        1.0                     14.00   \n",
       "2  34.0                        1.0                     17.55   \n",
       "3  52.0                        5.0                     16.00   \n",
       "4  46.0                        3.0                     21.00   \n",
       "5  42.0                        3.0                     23.00   \n",
       "6  51.0                        3.0                     17.00   \n",
       "7  26.0                        1.0                     26.00   \n",
       "8  45.0                        1.0                     20.00   \n",
       "9  44.0                        3.0                     15.00   \n",
       "\n",
       "   Num of pregnancies       Smokes  Hormonal Contraceptives  \\\n",
       "0            1.000000     0.000000                      0.0   \n",
       "1            1.000000     0.000000                      0.0   \n",
       "2            1.000000     0.000000                      0.0   \n",
       "3            4.000000  1369.000000                      1.0   \n",
       "4            4.000000     0.000000                      1.0   \n",
       "5            2.000000     0.000000                      0.0   \n",
       "6            6.000000   115.600000                      0.0   \n",
       "7            3.000000     0.000000                      1.0   \n",
       "8            5.000000     0.000000                      0.0   \n",
       "9            2.473333     3.547524                      0.0   \n",
       "\n",
       "   Hormonal Contraceptives (years)       IUD  IUD (years)  STDs  ...  \\\n",
       "0                              0.0  0.000000     0.000000   0.0  ...   \n",
       "1                              0.0  0.000000     0.000000   0.0  ...   \n",
       "2                              0.0  0.000000     0.000000   0.0  ...   \n",
       "3                              3.0  0.000000     0.000000   0.0  ...   \n",
       "4                             15.0  0.000000     0.000000   0.0  ...   \n",
       "5                              0.0  0.000000     0.000000   0.0  ...   \n",
       "6                              0.0  1.000000     7.000000   0.0  ...   \n",
       "7                              2.0  1.000000     7.000000   0.0  ...   \n",
       "8                              0.0  0.000000     0.000000   0.0  ...   \n",
       "9                              0.0  0.131667     0.604117   0.0  ...   \n",
       "\n",
       "   STDs:HPV  STDs: Number of diagnosis  Dx:Cancer  Dx:CIN  Dx:HPV   Dx  \\\n",
       "0       0.0                        0.0        0.0     0.0     0.0  0.0   \n",
       "1       0.0                        0.0        0.0     0.0     0.0  0.0   \n",
       "2       0.0                        0.0        0.0     0.0     0.0  0.0   \n",
       "3       0.0                        0.0        1.0     0.0     1.0  0.0   \n",
       "4       0.0                        0.0        0.0     0.0     0.0  0.0   \n",
       "5       0.0                        0.0        0.0     0.0     0.0  0.0   \n",
       "6       0.0                        0.0        0.0     0.0     0.0  0.0   \n",
       "7       0.0                        0.0        0.0     0.0     0.0  0.0   \n",
       "8       0.0                        0.0        1.0     0.0     1.0  1.0   \n",
       "9       0.0                        0.0        0.0     0.0     0.0  0.0   \n",
       "\n",
       "   Hinselmann  Schiller  Citology  Biopsy  \n",
       "0         0.0       0.0       0.0     0.0  \n",
       "1         0.0       0.0       0.0     0.0  \n",
       "2         0.0       0.0       0.0     0.0  \n",
       "3         0.0       0.0       0.0     0.0  \n",
       "4         0.0       0.0       0.0     0.0  \n",
       "5         0.0       0.0       0.0     0.0  \n",
       "6         1.0       1.0       0.0     1.0  \n",
       "7         0.0       0.0       0.0     0.0  \n",
       "8         0.0       0.0       0.0     0.0  \n",
       "9         0.0       0.0       0.0     0.0  \n",
       "\n",
       "[10 rows x 32 columns]"
      ]
     },
     "execution_count": 25,
     "metadata": {},
     "output_type": "execute_result"
    }
   ],
   "source": [
    "######### Feature selection: smoking #########\n",
    "# how many cigarettes has this person smoked in their life?\n",
    "df['Smokes'] = df['Smokes (years)']*df['Smokes (packs/year)']\n",
    "# remove redundant columns\n",
    "df = df.drop(['Smokes (years)','Smokes (packs/year)'], axis=1)\n",
    "df.head(10)"
   ]
  },
  {
   "cell_type": "code",
   "execution_count": 26,
   "metadata": {},
   "outputs": [],
   "source": [
    "######### Feature selection: contraceptives #########\n",
    "# remove redundant columns\n",
    "df = df.drop(['IUD','Hormonal Contraceptives','STDs'], axis=1)"
   ]
  },
  {
   "cell_type": "code",
   "execution_count": 27,
   "metadata": {},
   "outputs": [],
   "source": [
    "######### Normalize df #########\n",
    "# df=(df-df.mean())/df.std()"
   ]
  },
  {
   "cell_type": "code",
   "execution_count": 28,
   "metadata": {
    "scrolled": true
   },
   "outputs": [
    {
     "data": {
      "image/png": "[encoded data removed]",
      "text/plain": [
       "<Figure size 1080x1080 with 2 Axes>"
      ]
     },
     "metadata": {
      "needs_background": "light"
     },
     "output_type": "display_data"
    }
   ],
   "source": [
    "######### normalized feature correlation matrix #########\n",
    "df_corr = df.corr()\n",
    "fig= plt.figure(figsize=(15,15))\n",
    "import seaborn as sns\n",
    "ax = sns.heatmap(df_corr, cmap='YlGnBu')\n",
    "plt.savefig(\"feature_corr_matrix.jpg\",bbox_inches = \"tight\")\n",
    "pd.DataFrame(df_corr).to_csv(\"feature_correlations.csv\")"
   ]
  },
  {
   "cell_type": "code",
   "execution_count": 29,
   "metadata": {},
   "outputs": [],
   "source": [
    "###### bootstrap example ######\n",
    "\n",
    "# from sklearn.utils import resample\n",
    "# df2 = resample(df[df['Biopsy']==1],n_samples=50,replace=True)\n",
    "# df = df.append(df2)\n",
    "# print(np.unique(df['Biopsy'],return_counts=True))\n",
    "# df.mean()"
   ]
  },
  {
   "cell_type": "code",
   "execution_count": 30,
   "metadata": {},
   "outputs": [],
   "source": [
    "###### same proportion of each class in train and test sets ######\n",
    "\n",
    "df_biopsy_1 = df[df['Biopsy']==1]\n",
    "df_biopsy_0 = df[df['Biopsy']==0]"
   ]
  },
  {
   "cell_type": "code",
   "execution_count": 31,
   "metadata": {},
   "outputs": [],
   "source": [
    "train_0 = df_biopsy_0.iloc[0:642,:]\n",
    "train_1 = df_biopsy_1.iloc[0:44,:]\n",
    "\n",
    "test_0 = df_biopsy_0.iloc[642:len(df_biopsy_0),:]\n",
    "test_1 = df_biopsy_1.iloc[44:len(df_biopsy_1),:]"
   ]
  },
  {
   "cell_type": "code",
   "execution_count": 32,
   "metadata": {},
   "outputs": [
    {
     "name": "stdout",
     "output_type": "stream",
     "text": [
      "642\n"
     ]
    }
   ],
   "source": [
    "###### boot strap class 1 to training data ######\n",
    "    # (difficult to use class weights with SVC for some reason)\n",
    "from sklearn.utils import resample\n",
    "n = len(train_0) - len(train_1)\n",
    "train_1_supp = resample(train_1,n_samples=n,replace=True)\n",
    "train_1 = train_1.append(train_1_supp)\n",
    "print(len(train_1))"
   ]
  },
  {
   "cell_type": "code",
   "execution_count": 33,
   "metadata": {},
   "outputs": [],
   "source": [
    "train = train_0.append(train_1)\n",
    "test = test_0.append(test_1)\n",
    "# randomly reshuffle the rows\n",
    "train = train.sample(frac = 1).reset_index(drop=True)\n",
    "test = test.sample(frac = 1).reset_index(drop=True)"
   ]
  },
  {
   "cell_type": "code",
   "execution_count": 34,
   "metadata": {},
   "outputs": [],
   "source": [
    "###### preparing outputs for model ######\n",
    "\n",
    "# df1.iloc[,28] = Biopsy; df1.iloc[,27] = Citology; \n",
    "    # df1.iloc[,26] = Schiller; df1.iloc[,25] = Hinselmann\n",
    "    \n",
    "X_train = train.iloc[:,0:25] # 0 included, 687 excluded; 0 included, 25 excluded\n",
    "y_train_Hinselmann = train.iloc[:,25]\n",
    "y_train_Schiller = train.iloc[:,26]\n",
    "y_train_Citology = train.iloc[:,27]\n",
    "y_train_Biopsy = train.iloc[:,28]\n",
    "\n",
    "X_test = test.iloc[:,0:25] # 687 included, len(df1) excluded; 0 included, 25 excluded\n",
    "y_test_Hinselmann = test.iloc[:,25]\n",
    "y_test_Schiller = test.iloc[:,26]\n",
    "y_test_Citology = test.iloc[:,27]\n",
    "y_test_Biopsy = test.iloc[:,28]"
   ]
  },
  {
   "cell_type": "code",
   "execution_count": 35,
   "metadata": {},
   "outputs": [
    {
     "name": "stdout",
     "output_type": "stream",
     "text": [
      "Best estimators: {'C': 0.05, 'loss': 'squared_hinge', 'penalty': 'l2'}\n",
      "(172,)\n",
      "<class 'numpy.ndarray'>\n",
      "balanced accuracy score:  0.6403162055335968\n"
     ]
    }
   ],
   "source": [
    "#########################################\n",
    "### 2.1 Linear SVC: Biopsy Prediction ###\n",
    "#########################################\n",
    "\n",
    "# packages\n",
    "import matplotlib.pyplot as plt\n",
    "from sklearn.svm import LinearSVC\n",
    "from sklearn.pipeline import Pipeline  \n",
    "from sklearn.model_selection import GridSearchCV\n",
    "\n",
    "SVC = GridSearchCV(estimator=LinearSVC() , param_grid={'penalty':['l1','l2'],'loss':['hinge','squared_hinge'],'C':[0.01,0.05,0.1,0.5,1]},cv=5, n_jobs=-1) # 5-fold CV\n",
    "\n",
    "SVC.fit(X_train, y_train_Biopsy)\n",
    "\n",
    "print(\"Best estimators: \" + str(SVC.best_params_))\n",
    "\n",
    "from sklearn.metrics import balanced_accuracy_score\n",
    "y_pred = SVC.predict(X_test)\n",
    "print(y_pred.shape)\n",
    "print(type(y_pred))\n",
    "\n",
    "#>>> y_pred = [0, 1, 0, 0, 0, 1]\n",
    "print(\"balanced accuracy score: \",balanced_accuracy_score(y_test_Biopsy, y_pred))"
   ]
  },
  {
   "cell_type": "markdown",
   "metadata": {},
   "source": [
    "# Remember outputs:\n",
    "Best estimators: {'C': 0.05, 'loss': 'squared_hinge', 'penalty': 'l2'}\n",
    "(172,)\n",
    "<class 'numpy.ndarray'>\n",
    "balanced accuracy score:  0.6341050254093732"
   ]
  },
  {
   "cell_type": "code",
   "execution_count": 36,
   "metadata": {},
   "outputs": [
    {
     "name": "stdout",
     "output_type": "stream",
     "text": [
      "Best estimators: {'C': 0.05, 'loss': 'squared_hinge', 'penalty': 'l2'}\n",
      "(172,)\n",
      "<class 'numpy.ndarray'>\n",
      "balanced accuracy score:  0.6370808678500987\n"
     ]
    }
   ],
   "source": [
    "#############################################\n",
    "### 2.2 Linear SVC: Hinselmann Prediction ###\n",
    "#############################################\n",
    "\n",
    "# packages\n",
    "import matplotlib.pyplot as plt\n",
    "from sklearn.svm import LinearSVC\n",
    "from sklearn.pipeline import Pipeline  \n",
    "from sklearn.model_selection import GridSearchCV\n",
    "\n",
    "SVC = GridSearchCV(estimator=LinearSVC() , param_grid={'penalty':['l1','l2'],'loss':['hinge','squared_hinge'],'C':[0.01,0.05,0.1,0.5,1]},cv=5, n_jobs=-1) # 5-fold CV\n",
    "\n",
    "SVC.fit(X_train, y_train_Hinselmann)\n",
    "\n",
    "print(\"Best estimators: \" + str(SVC.best_params_))\n",
    "\n",
    "from sklearn.metrics import balanced_accuracy_score\n",
    "y_pred = SVC.predict(X_test)\n",
    "print(y_pred.shape)\n",
    "print(type(y_pred))\n",
    "\n",
    "#>>> y_pred = [0, 1, 0, 0, 0, 1]\n",
    "print(\"balanced accuracy score: \",balanced_accuracy_score(y_test_Hinselmann, y_pred))"
   ]
  },
  {
   "cell_type": "markdown",
   "metadata": {},
   "source": [
    "# Remember outputs:\n",
    "Best estimators: {'C': 0.5, 'loss': 'squared_hinge', 'penalty': 'l2'}\n",
    "(172,)\n",
    "<class 'numpy.ndarray'>\n",
    "balanced accuracy score:  0.47633136094674555"
   ]
  },
  {
   "cell_type": "code",
   "execution_count": 37,
   "metadata": {},
   "outputs": [
    {
     "name": "stdout",
     "output_type": "stream",
     "text": [
      "Best estimators: {'C': 0.1, 'loss': 'hinge', 'penalty': 'l2'}\n",
      "(172,)\n",
      "<class 'numpy.ndarray'>\n",
      "balanced accuracy score:  0.6760084925690022\n"
     ]
    }
   ],
   "source": [
    "#########################################\n",
    "### 2.3 Linear SVC: Schiller Prediction ###\n",
    "#########################################\n",
    "\n",
    "# packages\n",
    "import matplotlib.pyplot as plt\n",
    "from sklearn.svm import LinearSVC\n",
    "from sklearn.pipeline import Pipeline  \n",
    "from sklearn.model_selection import GridSearchCV\n",
    "\n",
    "SVC = GridSearchCV(estimator=LinearSVC() , param_grid={'penalty':['l1','l2'],'loss':['hinge','squared_hinge'],'C':[0.01,0.05,0.1,0.5,1]},cv=5, n_jobs=-1) # 5-fold CV\n",
    "\n",
    "SVC.fit(X_train, y_train_Schiller)\n",
    "\n",
    "print(\"Best estimators: \" + str(SVC.best_params_))\n",
    "\n",
    "from sklearn.metrics import balanced_accuracy_score\n",
    "y_pred = SVC.predict(X_test)\n",
    "print(y_pred.shape)\n",
    "print(type(y_pred))\n",
    "\n",
    "#>>> y_pred = [0, 1, 0, 0, 0, 1]\n",
    "print(\"balanced accuracy score: \",balanced_accuracy_score(y_test_Schiller, y_pred))"
   ]
  },
  {
   "cell_type": "markdown",
   "metadata": {},
   "source": [
    "# Remember Outputs:\n",
    "\n",
    "Best estimators: {'C': 0.1, 'loss': 'hinge', 'penalty': 'l2'}\n",
    "(172,)\n",
    "<class 'numpy.ndarray'>\n",
    "balanced accuracy score:  0.6760084925690022"
   ]
  },
  {
   "cell_type": "code",
   "execution_count": 38,
   "metadata": {},
   "outputs": [
    {
     "name": "stdout",
     "output_type": "stream",
     "text": [
      "Best estimators: {'C': 0.01, 'loss': 'squared_hinge', 'penalty': 'l2'}\n",
      "(172,)\n",
      "<class 'numpy.ndarray'>\n",
      "balanced accuracy score:  0.5\n"
     ]
    }
   ],
   "source": [
    "###########################################\n",
    "### 2.4 Linear SVC: Citology Prediction ###\n",
    "###########################################\n",
    "\n",
    "# packages\n",
    "import matplotlib.pyplot as plt\n",
    "from sklearn.svm import LinearSVC\n",
    "from sklearn.pipeline import Pipeline  \n",
    "from sklearn.model_selection import GridSearchCV\n",
    "\n",
    "SVC = GridSearchCV(estimator=LinearSVC() , param_grid={'penalty':['l1','l2'],'loss':['hinge','squared_hinge'],'C':[0.01,0.05,0.1,0.5,1]},cv=5, n_jobs=-1) # 5-fold CV\n",
    "\n",
    "SVC.fit(X_train, y_train_Citology)\n",
    "\n",
    "print(\"Best estimators: \" + str(SVC.best_params_))\n",
    "\n",
    "from sklearn.metrics import balanced_accuracy_score\n",
    "y_pred = SVC.predict(X_test)\n",
    "print(y_pred.shape)\n",
    "print(type(y_pred))\n",
    "\n",
    "#>>> y_pred = [0, 1, 0, 0, 0, 1]\n",
    "print(\"balanced accuracy score: \",balanced_accuracy_score(y_test_Citology, y_pred))"
   ]
  },
  {
   "cell_type": "markdown",
   "metadata": {},
   "source": [
    "# Remember Outputs:¶\n",
    "\n",
    "Best estimators: {'C': 0.5, 'loss': 'hinge', 'penalty': 'l2'}\n",
    "(172,)\n",
    "<class 'numpy.ndarray'>\n",
    "balanced accuracy score:  0.5432856169052488"
   ]
  },
  {
   "cell_type": "code",
   "execution_count": null,
   "metadata": {},
   "outputs": [],
   "source": []
  }
 ],
 "metadata": {
  "kernelspec": {
   "display_name": "Python 3",
   "language": "python",
   "name": "python3"
  },
  "language_info": {
   "codemirror_mode": {
    "name": "ipython",
    "version": 3
   },
   "file_extension": ".py",
   "mimetype": "text/x-python",
   "name": "python",
   "nbconvert_exporter": "python",
   "pygments_lexer": "ipython3",
   "version": "3.7.6"
  }
 },
 "nbformat": 4,
 "nbformat_minor": 4
}
